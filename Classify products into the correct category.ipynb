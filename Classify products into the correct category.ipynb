{
 "cells": [
  {
   "cell_type": "code",
   "execution_count": 4,
   "metadata": {},
   "outputs": [],
   "source": [
    "from contextlib import suppress\n",
    "\n",
    "with suppress(Exception):from kaggle_data import load_data, preprocess_data, preprocess_labels"
   ]
  },
  {
   "cell_type": "code",
   "execution_count": 5,
   "metadata": {},
   "outputs": [
    {
     "name": "stdout",
     "output_type": "stream",
     "text": [
      "9 classes\n",
      "93 dims\n"
     ]
    }
   ],
   "source": [
    "X_train, labels = load_data('data/kaggle_ottogroup/train.csv', train=True)\n",
    "X_train, scaler = preprocess_data(X_train)\n",
    "Y_train, encoder = preprocess_labels(labels)\n",
    "\n",
    "X_test, ids = load_data('data/kaggle_ottogroup/test.csv', train=False)\n",
    "\n",
    "X_test, _ = preprocess_data(X_test, scaler)\n",
    "\n",
    "nb_classes = Y_train.shape[1]\n",
    "print(nb_classes, 'classes')\n",
    "\n",
    "dims = X_train.shape[1]\n",
    "print(dims, 'dims')"
   ]
  },
  {
   "cell_type": "code",
   "execution_count": 10,
   "metadata": {},
   "outputs": [
    {
     "data": {
      "text/plain": [
       "array([[-0.253513  , -0.21006869, -0.3071711 , ..., -0.1295662 ,\n",
       "        -0.38694528, -0.10497214],\n",
       "       [-0.253513  , -0.21006869,  1.7373029 , ..., -0.1295662 ,\n",
       "        -0.38694528, -0.10497214],\n",
       "       [-0.253513  , -0.21006869, -0.3071711 , ..., -0.1295662 ,\n",
       "        -0.38694528, -0.10497214],\n",
       "       ...,\n",
       "       [-0.253513  , -0.21006869, -0.3071711 , ..., -0.1295662 ,\n",
       "        -0.38694528, -0.10497214],\n",
       "       [-0.253513  , -0.21006869, -0.3071711 , ..., -0.1295662 ,\n",
       "        -0.38694528, -0.10497214],\n",
       "       [-0.253513  , -0.21006869, -0.3071711 , ..., -0.1295662 ,\n",
       "        -0.38694528, -0.10497214]], dtype=float32)"
      ]
     },
     "execution_count": 10,
     "metadata": {},
     "output_type": "execute_result"
    }
   ],
   "source": [
    "X_train.view()"
   ]
  },
  {
   "cell_type": "code",
   "execution_count": 11,
   "metadata": {
    "collapsed": true
   },
   "outputs": [],
   "source": [
    "from keras.models import Sequential\n",
    "from keras.layers import Dense, Activation\n"
   ]
  },
  {
   "cell_type": "code",
   "execution_count": 12,
   "metadata": {},
   "outputs": [
    {
     "name": "stdout",
     "output_type": "stream",
     "text": [
      "93 dims\n",
      "Building model...\n",
      "9 classes\n",
      "Epoch 1/10\n",
      "61878/61878 [==============================] - 3s - loss: 1.0586     \n",
      "Epoch 2/10\n",
      "61878/61878 [==============================] - 3s - loss: 0.7711     \n",
      "Epoch 3/10\n",
      "61878/61878 [==============================] - 3s - loss: 0.7295     \n",
      "Epoch 4/10\n",
      "61878/61878 [==============================] - 3s - loss: 0.7088     \n",
      "Epoch 5/10\n",
      "61878/61878 [==============================] - 3s - loss: 0.6957     \n",
      "Epoch 6/10\n",
      "61878/61878 [==============================] - 3s - loss: 0.6865     \n",
      "Epoch 7/10\n",
      "61878/61878 [==============================] - 3s - loss: 0.6799     \n",
      "Epoch 8/10\n",
      "61878/61878 [==============================] - 3s - loss: 0.6746     \n",
      "Epoch 9/10\n",
      "61878/61878 [==============================] - 3s - loss: 0.6703     \n",
      "Epoch 10/10\n",
      "61878/61878 [==============================] - 3s - loss: 0.6668     \n"
     ]
    },
    {
     "data": {
      "text/plain": [
       "<keras.callbacks.History at 0x7f576de6ecc0>"
      ]
     },
     "execution_count": 12,
     "metadata": {},
     "output_type": "execute_result"
    }
   ],
   "source": [
    "dims = X_train.shape[1]\n",
    "print(dims, 'dims')\n",
    "print(\"Building model...\")\n",
    "\n",
    "nb_classes = Y_train.shape[1]\n",
    "print(nb_classes, 'classes')\n",
    "\n",
    "model = Sequential()\n",
    "model.add(Dense(nb_classes, input_shape=(dims,)))\n",
    "model.add(Activation('softmax'))\n",
    "model.compile(optimizer='sgd', loss='categorical_crossentropy')\n",
    "model.fit(X_train, Y_train)"
   ]
  },
  {
   "cell_type": "code",
   "execution_count": 13,
   "metadata": {},
   "outputs": [
    {
     "name": "stdout",
     "output_type": "stream",
     "text": [
      "_________________________________________________________________\n",
      "Layer (type)                 Output Shape              Param #   \n",
      "=================================================================\n",
      "dense_1 (Dense)              (None, 9)                 846       \n",
      "_________________________________________________________________\n",
      "activation_1 (Activation)    (None, 9)                 0         \n",
      "=================================================================\n",
      "Total params: 846\n",
      "Trainable params: 846\n",
      "Non-trainable params: 0\n",
      "_________________________________________________________________\n"
     ]
    }
   ],
   "source": [
    "model.summary()"
   ]
  },
  {
   "cell_type": "code",
   "execution_count": 14,
   "metadata": {
    "collapsed": true
   },
   "outputs": [],
   "source": [
    "from sklearn.model_selection import train_test_split\n",
    "from keras.callbacks import EarlyStopping, ModelCheckpoint"
   ]
  },
  {
   "cell_type": "code",
   "execution_count": 15,
   "metadata": {},
   "outputs": [
    {
     "name": "stdout",
     "output_type": "stream",
     "text": [
      "Train on 52596 samples, validate on 9282 samples\n",
      "Epoch 1/20\n",
      "52596/52596 [==============================] - 1s - loss: 0.6638 - val_loss: 0.6591\n",
      "Epoch 2/20\n",
      "52596/52596 [==============================] - 1s - loss: 0.6629 - val_loss: 0.6592\n",
      "Epoch 3/20\n",
      "52596/52596 [==============================] - 1s - loss: 0.6622 - val_loss: 0.6592\n",
      "Epoch 4/20\n",
      "52596/52596 [==============================] - 0s - loss: 0.6615 - val_loss: 0.6592\n",
      "Epoch 5/20\n",
      "52596/52596 [==============================] - 0s - loss: 0.6609 - val_loss: 0.6591\n",
      "Epoch 6/20\n",
      "52596/52596 [==============================] - 0s - loss: 0.6603 - val_loss: 0.6589\n",
      "Epoch 7/20\n",
      "52596/52596 [==============================] - 0s - loss: 0.6597 - val_loss: 0.6589\n",
      "Epoch 8/20\n",
      "52596/52596 [==============================] - 1s - loss: 0.6592 - val_loss: 0.6587\n",
      "Epoch 9/20\n",
      "52596/52596 [==============================] - 0s - loss: 0.6586 - val_loss: 0.6587\n",
      "Epoch 10/20\n",
      "52596/52596 [==============================] - 0s - loss: 0.6581 - val_loss: 0.6584\n",
      "Epoch 11/20\n",
      "52596/52596 [==============================] - 0s - loss: 0.6576 - val_loss: 0.6583\n",
      "Epoch 12/20\n",
      "52596/52596 [==============================] - 0s - loss: 0.6571 - val_loss: 0.6581\n",
      "Epoch 13/20\n",
      "52596/52596 [==============================] - 0s - loss: 0.6567 - val_loss: 0.6578\n",
      "Epoch 14/20\n",
      "52596/52596 [==============================] - 0s - loss: 0.6562 - val_loss: 0.6577\n",
      "Epoch 15/20\n",
      "52596/52596 [==============================] - 0s - loss: 0.6558 - val_loss: 0.6575\n",
      "Epoch 16/20\n",
      "52596/52596 [==============================] - 0s - loss: 0.6554 - val_loss: 0.6572\n",
      "Epoch 17/20\n",
      "52596/52596 [==============================] - 0s - loss: 0.6549 - val_loss: 0.6570\n",
      "Epoch 18/20\n",
      "52596/52596 [==============================] - 0s - loss: 0.6545 - val_loss: 0.6569\n",
      "Epoch 19/20\n",
      "52596/52596 [==============================] - 0s - loss: 0.6541 - val_loss: 0.6566\n",
      "Epoch 20/20\n",
      "52596/52596 [==============================] - 0s - loss: 0.6538 - val_loss: 0.6565\n"
     ]
    },
    {
     "data": {
      "text/plain": [
       "<keras.callbacks.History at 0x7f576de9f278>"
      ]
     },
     "execution_count": 15,
     "metadata": {},
     "output_type": "execute_result"
    }
   ],
   "source": [
    "X_train, X_val, Y_train, Y_val = train_test_split(X_train, Y_train, test_size=0.15, random_state=42)\n",
    "\n",
    "fBestModel = 'best_model.h5' \n",
    "\n",
    "early_stop = EarlyStopping(monitor='val_loss', patience=4, verbose=1) \n",
    "best_model = ModelCheckpoint(fBestModel, verbose=0, save_best_only=True)\n",
    "\n",
    "model.fit(X_train, Y_train, validation_data = (X_val, Y_val), epochs=20, \n",
    "          batch_size=128, verbose=True, callbacks=[best_model, early_stop]) \n"
   ]
  },
  {
   "cell_type": "code",
   "execution_count": 16,
   "metadata": {},
   "outputs": [
    {
     "name": "stdout",
     "output_type": "stream",
     "text": [
      "_________________________________________________________________\n",
      "Layer (type)                 Output Shape              Param #   \n",
      "=================================================================\n",
      "dense_2 (Dense)              (None, 100)               9400      \n",
      "_________________________________________________________________\n",
      "dense_3 (Dense)              (None, 9)                 909       \n",
      "_________________________________________________________________\n",
      "activation_2 (Activation)    (None, 9)                 0         \n",
      "=================================================================\n",
      "Total params: 10,309\n",
      "Trainable params: 10,309\n",
      "Non-trainable params: 0\n",
      "_________________________________________________________________\n"
     ]
    }
   ],
   "source": [
    "model = Sequential()\n",
    "model.add(Dense(100, input_shape=(dims,)))\n",
    "model.add(Dense(nb_classes))\n",
    "model.add(Activation('softmax'))\n",
    "model.compile(optimizer='sgd', loss='categorical_crossentropy')\n",
    "model.summary()"
   ]
  },
  {
   "cell_type": "code",
   "execution_count": 17,
   "metadata": {},
   "outputs": [
    {
     "name": "stdout",
     "output_type": "stream",
     "text": [
      "Train on 52596 samples, validate on 9282 samples\n",
      "Epoch 1/20\n",
      "52596/52596 [==============================] - 1s - loss: 1.1658 - val_loss: 0.8594\n",
      "Epoch 2/20\n",
      "52596/52596 [==============================] - 1s - loss: 0.8177 - val_loss: 0.7693\n",
      "Epoch 3/20\n",
      "52596/52596 [==============================] - 1s - loss: 0.7575 - val_loss: 0.7323\n",
      "Epoch 4/20\n",
      "52596/52596 [==============================] - 1s - loss: 0.7281 - val_loss: 0.7119\n",
      "Epoch 5/20\n",
      "52596/52596 [==============================] - 1s - loss: 0.7100 - val_loss: 0.6989\n",
      "Epoch 6/20\n",
      "52596/52596 [==============================] - 1s - loss: 0.6977 - val_loss: 0.6891\n",
      "Epoch 7/20\n",
      "52596/52596 [==============================] - 1s - loss: 0.6886 - val_loss: 0.6827\n",
      "Epoch 8/20\n",
      "52596/52596 [==============================] - 1s - loss: 0.6814 - val_loss: 0.6770\n",
      "Epoch 9/20\n",
      "52596/52596 [==============================] - 1s - loss: 0.6758 - val_loss: 0.6735\n",
      "Epoch 10/20\n",
      "52596/52596 [==============================] - 1s - loss: 0.6711 - val_loss: 0.6705\n",
      "Epoch 11/20\n",
      "52596/52596 [==============================] - 1s - loss: 0.6672 - val_loss: 0.6675\n",
      "Epoch 12/20\n",
      "52596/52596 [==============================] - 1s - loss: 0.6639 - val_loss: 0.6654\n",
      "Epoch 13/20\n",
      "52596/52596 [==============================] - 1s - loss: 0.6613 - val_loss: 0.6627\n",
      "Epoch 14/20\n",
      "52596/52596 [==============================] - 1s - loss: 0.6586 - val_loss: 0.6618\n",
      "Epoch 15/20\n",
      "52596/52596 [==============================] - 1s - loss: 0.6566 - val_loss: 0.6603\n",
      "Epoch 16/20\n",
      "52596/52596 [==============================] - 1s - loss: 0.6546 - val_loss: 0.6586\n",
      "Epoch 17/20\n",
      "52596/52596 [==============================] - 1s - loss: 0.6530 - val_loss: 0.6574\n",
      "Epoch 18/20\n",
      "52596/52596 [==============================] - 1s - loss: 0.6513 - val_loss: 0.6553\n",
      "Epoch 19/20\n",
      "52596/52596 [==============================] - 1s - loss: 0.6500 - val_loss: 0.6554\n",
      "Epoch 20/20\n",
      "52596/52596 [==============================] - 1s - loss: 0.6488 - val_loss: 0.6545\n"
     ]
    },
    {
     "data": {
      "text/plain": [
       "<keras.callbacks.History at 0x7f576b438ac8>"
      ]
     },
     "execution_count": 17,
     "metadata": {},
     "output_type": "execute_result"
    }
   ],
   "source": [
    "model.fit(X_train, Y_train, validation_data = (X_val, Y_val), epochs=20, \n",
    "          batch_size=128, verbose=True)"
   ]
  },
  {
   "cell_type": "code",
   "execution_count": 18,
   "metadata": {},
   "outputs": [
    {
     "name": "stdout",
     "output_type": "stream",
     "text": [
      "Train on 52596 samples, validate on 9282 samples\n",
      "Epoch 1/20\n",
      "52596/52596 [==============================] - 1s - loss: 0.9530 - val_loss: 0.7539\n",
      "Epoch 2/20\n",
      "52596/52596 [==============================] - 1s - loss: 0.7319 - val_loss: 0.7073\n",
      "Epoch 3/20\n",
      "52596/52596 [==============================] - 1s - loss: 0.6984 - val_loss: 0.6856\n",
      "Epoch 4/20\n",
      "52596/52596 [==============================] - 1s - loss: 0.6824 - val_loss: 0.6751\n",
      "Epoch 5/20\n",
      "52596/52596 [==============================] - 1s - loss: 0.6718 - val_loss: 0.6692\n",
      "Epoch 6/20\n",
      "52596/52596 [==============================] - 1s - loss: 0.6645 - val_loss: 0.6622\n",
      "Epoch 7/20\n",
      "52596/52596 [==============================] - 1s - loss: 0.6589 - val_loss: 0.6622\n",
      "Epoch 8/20\n",
      "52596/52596 [==============================] - 1s - loss: 0.6553 - val_loss: 0.6593\n",
      "Epoch 9/20\n",
      "52596/52596 [==============================] - 1s - loss: 0.6521 - val_loss: 0.6593\n",
      "Epoch 10/20\n",
      "52596/52596 [==============================] - 1s - loss: 0.6497 - val_loss: 0.6546\n",
      "Epoch 11/20\n",
      "52596/52596 [==============================] - 1s - loss: 0.6475 - val_loss: 0.6519\n",
      "Epoch 12/20\n",
      "52596/52596 [==============================] - 1s - loss: 0.6459 - val_loss: 0.6502\n",
      "Epoch 13/20\n",
      "52596/52596 [==============================] - 1s - loss: 0.6444 - val_loss: 0.6503\n",
      "Epoch 14/20\n",
      "52596/52596 [==============================] - 1s - loss: 0.6431 - val_loss: 0.6501\n",
      "Epoch 15/20\n",
      "52596/52596 [==============================] - 1s - loss: 0.6416 - val_loss: 0.6520\n",
      "Epoch 16/20\n",
      "52596/52596 [==============================] - 1s - loss: 0.6407 - val_loss: 0.6506\n",
      "Epoch 17/20\n",
      "52596/52596 [==============================] - 1s - loss: 0.6400 - val_loss: 0.6500\n",
      "Epoch 18/20\n",
      "52596/52596 [==============================] - 1s - loss: 0.6393 - val_loss: 0.6488\n",
      "Epoch 19/20\n",
      "52596/52596 [==============================] - 1s - loss: 0.6384 - val_loss: 0.6478\n",
      "Epoch 20/20\n",
      "52596/52596 [==============================] - 1s - loss: 0.6381 - val_loss: 0.6485\n"
     ]
    },
    {
     "data": {
      "text/plain": [
       "<keras.callbacks.History at 0x7f5766fbe940>"
      ]
     },
     "execution_count": 18,
     "metadata": {},
     "output_type": "execute_result"
    }
   ],
   "source": [
    "model = Sequential()\n",
    "model.add(Dense(100, input_shape=(dims,)))\n",
    "model.add(Dense(100, input_shape=(dims,)))\n",
    "model.add(Dense(100, input_shape=(dims,)))\n",
    "# ...\n",
    "# ...\n",
    "# Play with it! add as much layers as you want! try and get better results.\n",
    "\n",
    "model.add(Dense(nb_classes))\n",
    "model.add(Activation('softmax'))\n",
    "model.compile(optimizer='sgd', loss='categorical_crossentropy')\n",
    "model.fit(X_train, Y_train, validation_data = (X_val, Y_val), epochs=20, \n",
    "          batch_size=128, verbose=True)"
   ]
  },
  {
   "cell_type": "code",
   "execution_count": 19,
   "metadata": {},
   "outputs": [
    {
     "name": "stdout",
     "output_type": "stream",
     "text": [
      "_________________________________________________________________\n",
      "Layer (type)                 Output Shape              Param #   \n",
      "=================================================================\n",
      "dense_4 (Dense)              (None, 100)               9400      \n",
      "_________________________________________________________________\n",
      "dense_5 (Dense)              (None, 100)               10100     \n",
      "_________________________________________________________________\n",
      "dense_6 (Dense)              (None, 100)               10100     \n",
      "_________________________________________________________________\n",
      "dense_7 (Dense)              (None, 9)                 909       \n",
      "_________________________________________________________________\n",
      "activation_3 (Activation)    (None, 9)                 0         \n",
      "=================================================================\n",
      "Total params: 30,509\n",
      "Trainable params: 30,509\n",
      "Non-trainable params: 0\n",
      "_________________________________________________________________\n"
     ]
    }
   ],
   "source": [
    "model.summary()"
   ]
  }
 ],
 "metadata": {
  "kernelspec": {
   "display_name": "Python 3",
   "language": "python",
   "name": "python3"
  },
  "language_info": {
   "codemirror_mode": {
    "name": "ipython",
    "version": 3
   },
   "file_extension": ".py",
   "mimetype": "text/x-python",
   "name": "python",
   "nbconvert_exporter": "python",
   "pygments_lexer": "ipython3",
   "version": "3.6.2"
  }
 },
 "nbformat": 4,
 "nbformat_minor": 2
}
