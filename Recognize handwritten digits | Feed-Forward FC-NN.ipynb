{
 "cells": [
  {
   "cell_type": "code",
   "execution_count": 2,
   "metadata": {},
   "outputs": [],
   "source": [
    "from contextlib import suppress\n",
    "\n",
    "with suppress(Exception):import numpy as np\n",
    "import keras\n",
    "from keras.datasets import mnist"
   ]
  },
  {
   "cell_type": "code",
   "execution_count": 3,
   "metadata": {
    "collapsed": true
   },
   "outputs": [],
   "source": [
    "# Load the datasets\n",
    "(X_train, y_train), (X_test, y_test) = mnist.load_data()"
   ]
  },
  {
   "cell_type": "code",
   "execution_count": 4,
   "metadata": {
    "collapsed": true
   },
   "outputs": [],
   "source": [
    "from matplotlib import pyplot\n",
    "import matplotlib as mpl\n",
    "%matplotlib inline"
   ]
  },
  {
   "cell_type": "code",
   "execution_count": 5,
   "metadata": {},
   "outputs": [
    {
     "data": {
      "image/png": "[encoded data removed]",
      "text/plain": [
       "<matplotlib.figure.Figure at 0x7fb90c6b0668>"
      ]
     },
     "metadata": {},
     "output_type": "display_data"
    }
   ],
   "source": [
    "fig = pyplot.figure()\n",
    "ax = fig.add_subplot(1,1,1)\n",
    "\n",
    "imgplot = ax.imshow(X_train[0], cmap=mpl.cm.Greys)\n",
    "imgplot.set_interpolation('nearest')\n",
    "\n",
    "ax.xaxis.set_ticks_position('top')\n",
    "ax.yaxis.set_ticks_position('left')\n",
    "\n",
    "pyplot.show()"
   ]
  },
  {
   "cell_type": "code",
   "execution_count": 6,
   "metadata": {
    "collapsed": true
   },
   "outputs": [],
   "source": [
    "#Feed-Forward FC-NN (Fully Connected Neural Network) for a classification task\n",
    "from keras.models import Sequential\n",
    "from keras.layers.core import Dense, Dropout\n",
    "from keras.optimizers import SGD\n",
    "\n",
    "model = Sequential()\n",
    "model.add(Dense(512, activation='relu', input_shape=(784,)))\n",
    "model.add(Dropout(0.2))\n",
    "model.add(Dense(512, activation='relu'))\n",
    "model.add(Dropout(0.2))\n",
    "model.add(Dense(10, activation='softmax'))\n",
    "\n",
    "model.compile(loss='categorical_crossentropy', optimizer=SGD(), \n",
    "              metrics=['accuracy'])"
   ]
  },
  {
   "cell_type": "code",
   "execution_count": 7,
   "metadata": {},
   "outputs": [
    {
     "name": "stdout",
     "output_type": "stream",
     "text": [
      "_________________________________________________________________\n",
      "Layer (type)                 Output Shape              Param #   \n",
      "=================================================================\n",
      "dense_1 (Dense)              (None, 512)               401920    \n",
      "_________________________________________________________________\n",
      "dropout_1 (Dropout)          (None, 512)               0         \n",
      "_________________________________________________________________\n",
      "dense_2 (Dense)              (None, 512)               262656    \n",
      "_________________________________________________________________\n",
      "dropout_2 (Dropout)          (None, 512)               0         \n",
      "_________________________________________________________________\n",
      "dense_3 (Dense)              (None, 10)                5130      \n",
      "=================================================================\n",
      "Total params: 669,706\n",
      "Trainable params: 669,706\n",
      "Non-trainable params: 0\n",
      "_________________________________________________________________\n"
     ]
    }
   ],
   "source": [
    "model.summary()"
   ]
  },
  {
   "cell_type": "code",
   "execution_count": 8,
   "metadata": {
    "collapsed": true
   },
   "outputs": [],
   "source": [
    "#we apply the to_categorical function from keras.utilis to convert integer labels to one-hot-vectors.\n",
    "from keras.datasets import mnist\n",
    "from keras.utils import np_utils\n",
    "\n",
    "X_train = X_train.reshape(60000, 784)\n",
    "X_test = X_test.reshape(10000, 784)\n",
    "X_train = X_train.astype(\"float32\")\n",
    "X_test = X_test.astype(\"float32\")\n",
    "X_train /= 255\n",
    "X_test /= 255\n",
    "\n",
    "# convert class vectors to binary class matrices\n",
    "Y_train = np_utils.to_categorical(y_train, 10)\n",
    "Y_test = np_utils.to_categorical(y_test, 10)"
   ]
  },
  {
   "cell_type": "code",
   "execution_count": 9,
   "metadata": {},
   "outputs": [
    {
     "data": {
      "text/plain": [
       "array([[0., 0., 0., ..., 0., 0., 0.],\n",
       "       [0., 0., 0., ..., 0., 0., 0.],\n",
       "       [0., 0., 0., ..., 0., 0., 0.],\n",
       "       ...,\n",
       "       [0., 0., 0., ..., 0., 0., 0.],\n",
       "       [0., 0., 0., ..., 0., 0., 0.],\n",
       "       [0., 0., 0., ..., 0., 0., 0.]], dtype=float32)"
      ]
     },
     "execution_count": 9,
     "metadata": {},
     "output_type": "execute_result"
    }
   ],
   "source": [
    "X_train"
   ]
  },
  {
   "cell_type": "code",
   "execution_count": 13,
   "metadata": {},
   "outputs": [
    {
     "name": "stdout",
     "output_type": "stream",
     "text": [
      "Train on 60000 samples, validate on 10000 samples\n",
      "Epoch 1/10\n",
      "60000/60000 [==============================] - 11s - loss: 0.3339 - acc: 0.9019 - val_loss: 0.2655 - val_acc: 0.9242\n",
      "Epoch 2/10\n",
      "60000/60000 [==============================] - 10s - loss: 0.3084 - acc: 0.9100 - val_loss: 0.2509 - val_acc: 0.9265\n",
      "Epoch 3/10\n",
      "60000/60000 [==============================] - 11s - loss: 0.2936 - acc: 0.9151 - val_loss: 0.2368 - val_acc: 0.9324\n",
      "Epoch 4/10\n",
      "60000/60000 [==============================] - 11s - loss: 0.2769 - acc: 0.9202 - val_loss: 0.2246 - val_acc: 0.9350\n",
      "Epoch 5/10\n",
      "60000/60000 [==============================] - 11s - loss: 0.2619 - acc: 0.9239 - val_loss: 0.2146 - val_acc: 0.9392\n",
      "Epoch 6/10\n",
      "60000/60000 [==============================] - 12s - loss: 0.2499 - acc: 0.9275 - val_loss: 0.2047 - val_acc: 0.9412\n",
      "Epoch 7/10\n",
      "60000/60000 [==============================] - 13s - loss: 0.2391 - acc: 0.9311 - val_loss: 0.1971 - val_acc: 0.9433\n",
      "Epoch 8/10\n",
      "60000/60000 [==============================] - 12s - loss: 0.2278 - acc: 0.9341 - val_loss: 0.1885 - val_acc: 0.9452\n",
      "Epoch 9/10\n",
      "60000/60000 [==============================] - 14s - loss: 0.2199 - acc: 0.9363 - val_loss: 0.1812 - val_acc: 0.9463\n",
      "Epoch 10/10\n",
      "60000/60000 [==============================] - 12s - loss: 0.2123 - acc: 0.9391 - val_loss: 0.1747 - val_acc: 0.9487\n"
     ]
    }
   ],
   "source": [
    "network_history = model.fit(X_train, Y_train, batch_size=128, \n",
    "                            epochs=10, verbose=1, validation_data=(X_test, Y_test))"
   ]
  },
  {
   "cell_type": "code",
   "execution_count": 14,
   "metadata": {},
   "outputs": [
    {
     "data": {
      "text/plain": [
       "<matplotlib.legend.Legend at 0x7fb90e1865f8>"
      ]
     },
     "execution_count": 14,
     "metadata": {},
     "output_type": "execute_result"
    },
    {
     "data": {
      "image/png": "[encoded data removed]",
      "text/plain": [
       "<matplotlib.figure.Figure at 0x7fb90dfee0b8>"
      ]
     },
     "metadata": {},
     "output_type": "display_data"
    },
    {
     "data": {
      "image/png": "[encoded data removed]",
      "text/plain": [
       "<matplotlib.figure.Figure at 0x7fb8fa2aa5f8>"
      ]
     },
     "metadata": {},
     "output_type": "display_data"
    }
   ],
   "source": [
    "#Plotting Network Performance Trend\n",
    "import matplotlib.pyplot as plt\n",
    "%matplotlib inline\n",
    "\n",
    "plt.figure()\n",
    "plt.xlabel('Epochs')\n",
    "plt.ylabel('Loss')\n",
    "plt.plot(network_history.history['loss'])\n",
    "plt.plot(network_history.history['val_loss'])\n",
    "plt.legend(['Training', 'Validation'])\n",
    "\n",
    "plt.figure()\n",
    "plt.xlabel('Epochs')\n",
    "plt.ylabel('Accuracy')\n",
    "plt.plot(network_history.history['acc'])\n",
    "plt.plot(network_history.history['val_acc'])\n",
    "plt.legend(['Training', 'Validation'], loc='lower right')"
   ]
  },
  {
   "cell_type": "code",
   "execution_count": 16,
   "metadata": {},
   "outputs": [
    {
     "name": "stdout",
     "output_type": "stream",
     "text": [
      "Train on 60000 samples, validate on 10000 samples\n",
      "Epoch 1/10\n",
      "60000/60000 [==============================] - 11s - loss: 1.2022 - acc: 0.6855 - val_loss: 0.5391 - val_acc: 0.8686\n",
      "Epoch 2/10\n",
      "60000/60000 [==============================] - 11s - loss: 0.5318 - acc: 0.8492 - val_loss: 0.3784 - val_acc: 0.8980\n",
      "Epoch 3/10\n",
      "60000/60000 [==============================] - 11s - loss: 0.4284 - acc: 0.8753 - val_loss: 0.3268 - val_acc: 0.9089\n",
      "Epoch 4/10\n",
      "60000/60000 [==============================] - 12s - loss: 0.3792 - acc: 0.8898 - val_loss: 0.2953 - val_acc: 0.9172\n",
      "Epoch 5/10\n",
      "60000/60000 [==============================] - 11s - loss: 0.3448 - acc: 0.8987 - val_loss: 0.2730 - val_acc: 0.9236\n",
      "Epoch 6/10\n",
      "60000/60000 [==============================] - 13s - loss: 0.3214 - acc: 0.9063 - val_loss: 0.2571 - val_acc: 0.9269\n",
      "Epoch 7/10\n",
      "60000/60000 [==============================] - 12s - loss: 0.3024 - acc: 0.9118 - val_loss: 0.2432 - val_acc: 0.9312\n",
      "Epoch 8/10\n",
      "60000/60000 [==============================] - 14s - loss: 0.2844 - acc: 0.9180 - val_loss: 0.2308 - val_acc: 0.9344\n",
      "Epoch 9/10\n",
      "60000/60000 [==============================] - 14s - loss: 0.2703 - acc: 0.9213 - val_loss: 0.2198 - val_acc: 0.9375\n",
      "Epoch 10/10\n",
      "60000/60000 [==============================] - 13s - loss: 0.2569 - acc: 0.9256 - val_loss: 0.2100 - val_acc: 0.9402\n"
     ]
    },
    {
     "data": {
      "text/plain": [
       "<keras.callbacks.History at 0x7fb90e07d198>"
      ]
     },
     "execution_count": 16,
     "metadata": {},
     "output_type": "execute_result"
    }
   ],
   "source": [
    "#If you continue training, at some point the validation loss will start to increase: that is when the model \n",
    "#starts to **overfit**. \n",
    "\n",
    "#It is always necessary to monitor training and validation loss during the training of any kind of Neural \n",
    "#Network, either to detect overfitting or to evaluate the behaviour of the model \n",
    "from keras.callbacks import EarlyStopping\n",
    "\n",
    "early_stop = EarlyStopping(monitor='val_loss', patience=4, verbose=1)\n",
    "\n",
    "model = Sequential()\n",
    "model.add(Dense(512, activation='relu', input_shape=(784,)))\n",
    "model.add(Dropout(0.2))\n",
    "model.add(Dense(512, activation='relu'))\n",
    "model.add(Dropout(0.2))\n",
    "model.add(Dense(10, activation='softmax'))\n",
    "\n",
    "model.compile(loss='categorical_crossentropy', optimizer=SGD(), \n",
    "              metrics=['accuracy'])\n",
    "    \n",
    "model.fit(X_train, Y_train, validation_data = (X_test, Y_test), epochs=10, \n",
    "          batch_size=128, verbose=True, callbacks=[early_stop]) "
   ]
  }
 ],
 "metadata": {
  "kernelspec": {
   "display_name": "Python 3",
   "language": "python",
   "name": "python3"
  },
  "language_info": {
   "codemirror_mode": {
    "name": "ipython",
    "version": 3
   },
   "file_extension": ".py",
   "mimetype": "text/x-python",
   "name": "python",
   "nbconvert_exporter": "python",
   "pygments_lexer": "ipython3",
   "version": "3.6.2"
  }
 },
 "nbformat": 4,
 "nbformat_minor": 2
}
